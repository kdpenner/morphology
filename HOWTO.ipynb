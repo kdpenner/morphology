{
 "cells": [
  {
   "cell_type": "markdown",
   "metadata": {},
   "source": [
    "morphology.py is a pipeline that calls the statmorph package.  This notebook shows how to use morphology.py in a notebook or interactive setting.\n",
    "\n",
    "The morphology pipeline requires only one argument at the command line.  The argument is the filename of the stamp you want to analyze.  You will also need a segmentation stamp, i.e., a cutout from the segmentation map that corresponds to the cutout to be analyzed.  The segmentation stamp must use 0 to indicate the absence of source flux in a pixel.  (PyBDSM uses -1 to indicate background in its `island images'.)\n",
    "\n",
    "Let's use stamp.py to create the stamps and segmentation stamps:"
   ]
  },
  {
   "cell_type": "code",
   "execution_count": 9,
   "metadata": {},
   "outputs": [
    {
     "data": {
      "text/plain": [
       "0"
      ]
     },
     "execution_count": 9,
     "metadata": {},
     "output_type": "execute_result"
    }
   ],
   "source": [
    "import subprocess\n",
    "subprocess.call(['../stamps/stamp.py', '--radio_img',\n",
    "                 '../radio_imgs/img_MACSJ0416_S-BAND_data-MFS-image.fits',\n",
    "                 '--cat', '../ian_cats/VLA-HFF_0416_compact_optical_rasort.txt', '--imgs',\n",
    "                 '../radio_imgs/pyrank/img_MACSJ0416_S-BAND_data-MFS-image.pybdsm_pyrank.fits'])"
   ]
  },
  {
   "cell_type": "markdown",
   "metadata": {},
   "source": [
    "The results of the call are stamps from the radio data (\\*img0.fits) and stamps from the segmentation image (\\*img1.fits).  The pipeline, run from the command line, requires that the segmentation stamp share the root name of the data stamp and end in .seg.fits.  For this example the segmentation stamps must be \\*img0.seg.fits.  So let's rename the files:"
   ]
  },
  {
   "cell_type": "code",
   "execution_count": 10,
   "metadata": {},
   "outputs": [
    {
     "data": {
      "text/plain": [
       "0"
      ]
     },
     "execution_count": 10,
     "metadata": {},
     "output_type": "execute_result"
    }
   ],
   "source": [
    "subprocess.call(['for i in output/*img1.fits; do mv \"$i\" \"${i%%img1.fits}img0.seg.fits\"; done'],\n",
    "                shell = True)"
   ]
  },
  {
   "cell_type": "markdown",
   "metadata": {},
   "source": [
    "Now, import morphology and read in 1 pair of stamps for an example:"
   ]
  },
  {
   "cell_type": "code",
   "execution_count": 11,
   "metadata": {},
   "outputs": [],
   "source": [
    "from astropy.io import fits\n",
    "import morphology\n",
    "img = fits.open('output/113img0.fits')\n",
    "segm = fits.open('output/113img0.seg.fits')\n",
    "# pyrank images indicate background with -1; we must indicate background with 0\n",
    "segm[0].data += 1"
   ]
  },
  {
   "cell_type": "markdown",
   "metadata": {},
   "source": [
    "morphology.py has 5 main functions: return_bkg, measure_morphology, mod_segmap_1pix, write_gini_mask, and build_table.\n",
    "\n",
    "The first step is to get the median and RMS of the background in the stamp.  statmorph requires that the stamp has a background of 0.  The segmentation stamp defines the masked region.  The median and RMS are calculated with sigma_clipped_stats.\n",
    "\n",
    "The inputs to return_bkg are the stamp and the segmentation stamp as a boolean mask.  The outputs are the median of the masked and sigma-clipped region and a 2D array of the same size as the stamp filled with the RMS value.  (We assume the RMS is constant across the stamp.)"
   ]
  },
  {
   "cell_type": "code",
   "execution_count": 12,
   "metadata": {},
   "outputs": [],
   "source": [
    "bkg_median, bkg_rms_arr = morphology.return_bkg(img[0].data, segm[0].data.astype(bool))"
   ]
  },
  {
   "cell_type": "code",
   "execution_count": 13,
   "metadata": {},
   "outputs": [
    {
     "name": "stdout",
     "output_type": "stream",
     "text": [
      "(1.4006300830260443e-07, array([[  9.84536169e-07,   9.84536169e-07,   9.84536169e-07, ...,\n",
      "          9.84536169e-07,   9.84536169e-07,   9.84536169e-07],\n",
      "       [  9.84536169e-07,   9.84536169e-07,   9.84536169e-07, ...,\n",
      "          9.84536169e-07,   9.84536169e-07,   9.84536169e-07],\n",
      "       [  9.84536169e-07,   9.84536169e-07,   9.84536169e-07, ...,\n",
      "          9.84536169e-07,   9.84536169e-07,   9.84536169e-07],\n",
      "       ..., \n",
      "       [  9.84536169e-07,   9.84536169e-07,   9.84536169e-07, ...,\n",
      "          9.84536169e-07,   9.84536169e-07,   9.84536169e-07],\n",
      "       [  9.84536169e-07,   9.84536169e-07,   9.84536169e-07, ...,\n",
      "          9.84536169e-07,   9.84536169e-07,   9.84536169e-07],\n",
      "       [  9.84536169e-07,   9.84536169e-07,   9.84536169e-07, ...,\n",
      "          9.84536169e-07,   9.84536169e-07,   9.84536169e-07]]))\n"
     ]
    }
   ],
   "source": [
    "print(bkg_median, bkg_rms_arr)"
   ]
  },
  {
   "cell_type": "markdown",
   "metadata": {},
   "source": [
    "The second step is to pass to measure_morphology the stamp, segmentation stamp, median background, background RMS array, and a \"cutout extent\" parameter, which is passed to statmorph.  You can fiddle with the extent parameter but I've used 2.\n",
    "\n",
    "The outputs of measure_morphology are the morphological parameters from statmorph for the object labeled in the central pixel of the segmentation stamp."
   ]
  },
  {
   "cell_type": "code",
   "execution_count": 14,
   "metadata": {},
   "outputs": [
    {
     "name": "stderr",
     "output_type": "stream",
     "text": [
      "WARNING: [skybox] Reducing skybox size to 16. [statmorph.statmorph]\n",
      "WARNING: [M statistic] Reduced stepsize to 0.01. [statmorph.statmorph]\n",
      "WARNING: [M statistic] Reduced stepsize to 0.005. [statmorph.statmorph]\n",
      "WARNING: [M statistic] Reduced stepsize to 0.0025. [statmorph.statmorph]\n",
      "WARNING: [M statistic] Reduced stepsize to 0.00125. [statmorph.statmorph]\n",
      "WARNING: [M statistic] Reduced stepsize to 0.000625. [statmorph.statmorph]\n",
      "WARNING: [M statistic] Single clump! [statmorph.statmorph]\n"
     ]
    },
    {
     "name": "stdout",
     "output_type": "stream",
     "text": [
      "Finished processing source 550.\n",
      "\n"
     ]
    }
   ],
   "source": [
    "obj_morph = morphology.measure_morphology(img[0].data, segm[0].data, bkg_median, bkg_rms_arr, 2)"
   ]
  },
  {
   "cell_type": "code",
   "execution_count": 16,
   "metadata": {},
   "outputs": [
    {
     "name": "stdout",
     "output_type": "stream",
     "text": [
      "<statmorph.statmorph.SourceMorphology object at 0x1c1ac01050>\n"
     ]
    }
   ],
   "source": [
    "print(obj_morph[0])"
   ]
  },
  {
   "cell_type": "markdown",
   "metadata": {},
   "source": [
    "If obj_morph exists, the pipeline will call statmorph an additional 2 times: once with a segmentation stamp whose boundary has been expanded by 1 pixel; and once with a segmentation stamp whose boundary has been shrunk by 1 pixel.  The idea is to estimate the morphological parameters 3 times, under segmentation uncertainty, and then to calculate a standard deviation.\n",
    "\n",
    "mod_segmap_1pix modifies the segmentation stamp."
   ]
  },
  {
   "cell_type": "code",
   "execution_count": 17,
   "metadata": {},
   "outputs": [],
   "source": [
    "big_segm, small_segm = morphology.mod_segmap_1pix(segm[0].data)"
   ]
  },
  {
   "cell_type": "code",
   "execution_count": null,
   "metadata": {},
   "outputs": [],
   "source": []
  }
 ],
 "metadata": {
  "kernelspec": {
   "display_name": "Python [conda root]",
   "language": "python",
   "name": "conda-root-py"
  },
  "language_info": {
   "codemirror_mode": {
    "name": "ipython",
    "version": 2
   },
   "file_extension": ".py",
   "mimetype": "text/x-python",
   "name": "python",
   "nbconvert_exporter": "python",
   "pygments_lexer": "ipython2",
   "version": "2.7.15"
  }
 },
 "nbformat": 4,
 "nbformat_minor": 2
}
