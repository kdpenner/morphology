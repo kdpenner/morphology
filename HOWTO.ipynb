{
 "cells": [
  {
   "cell_type": "markdown",
   "metadata": {},
   "source": [
    "morphology.py is a pipeline that calls the statmorph package.  This notebook shows how to use morphology.py in a notebook or interactive setting.\n",
    "\n",
    "The morphology pipeline requires only one argument at the command line.  The argument is the filename of the stamp you want to analyze.  You will also need a segmentation stamp, i.e., a cutout from the segmentation map that corresponds to the cutout to be analyzed.  The segmentation stamp must use 0 to indicate the absence of source flux in a pixel.  (PyBDSM uses -1 to indicate background in its `island images'.)\n",
    "\n",
    "Let's use stamp.py to create the stamps and segmentation stamps:"
   ]
  },
  {
   "cell_type": "code",
   "execution_count": 11,
   "metadata": {},
   "outputs": [
    {
     "data": {
      "text/plain": [
       "0"
      ]
     },
     "execution_count": 11,
     "metadata": {},
     "output_type": "execute_result"
    }
   ],
   "source": [
    "import subprocess\n",
    "subprocess.call(['../stamps/stamp.py', '--radio_img', '../radio_imgs/img_MACSJ0416_C-BAND_data-MFS-image.fits',\n",
    "                 '--cat', '../ian_cats/VLA-HFF_0416_compact_optical_rasort.txt', '--imgs',\n",
    "                 '../radio_imgs/pyrank/img_MACSJ0416_C-BAND_data-MFS-image.pybdsm_pyrank.fits'])"
   ]
  },
  {
   "cell_type": "markdown",
   "metadata": {},
   "source": [
    "The results of the call are stamps from the radio data (\\*img0.fits) and stamps from the segmentation image (\\*img1.fits).  The pipeline requires that the segmentation stamp share the root name of the data stamp and end in .seg.fits, i.e., for this example the segmentation stamps must be \\*img0.seg.fits.  So we must rename the files:"
   ]
  },
  {
   "cell_type": "code",
   "execution_count": 14,
   "metadata": {},
   "outputs": [
    {
     "data": {
      "text/plain": [
       "0"
      ]
     },
     "execution_count": 14,
     "metadata": {},
     "output_type": "execute_result"
    }
   ],
   "source": [
    "subprocess.call(['for i in ./output/*img1.fits; do mv \"$i\" \"${i%%img1.fits}img0.seg.fits\"; done'], shell = True)"
   ]
  },
  {
   "cell_type": "markdown",
   "metadata": {},
   "source": [
    "Now, import morphology:"
   ]
  },
  {
   "cell_type": "code",
   "execution_count": 15,
   "metadata": {},
   "outputs": [],
   "source": [
    "import morphology"
   ]
  },
  {
   "cell_type": "markdown",
   "metadata": {},
   "source": [
    "morphology.py has 5 main functions: return_bkg, measure_morphology, mod_segmap_1pix, write_gini_mask, and build_table.\n",
    "\n",
    "The first step is to get the median and RMS of the background in the stamp.  The segmentation image defines the masked region.  The median and RMS are calculated with sigma_clipped_stats."
   ]
  },
  {
   "cell_type": "code",
   "execution_count": null,
   "metadata": {},
   "outputs": [],
   "source": []
  }
 ],
 "metadata": {
  "kernelspec": {
   "display_name": "Python [conda root]",
   "language": "python",
   "name": "conda-root-py"
  },
  "language_info": {
   "codemirror_mode": {
    "name": "ipython",
    "version": 2
   },
   "file_extension": ".py",
   "mimetype": "text/x-python",
   "name": "python",
   "nbconvert_exporter": "python",
   "pygments_lexer": "ipython2",
   "version": "2.7.15"
  }
 },
 "nbformat": 4,
 "nbformat_minor": 2
}
